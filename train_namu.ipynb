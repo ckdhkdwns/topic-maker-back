{
 "cells": [
  {
   "attachments": {},
   "cell_type": "markdown",
   "metadata": {},
   "source": [
    "## FastText 나무위키 데이터 학습\n",
    "나무위키 데이터베이스 덤프로 *FastText* 모델을 학습하는 과정입니다."
   ]
  },
  {
   "attachments": {},
   "cell_type": "markdown",
   "metadata": {},
   "source": [
    "### 원본 파일 자르기\n",
    "제공하는 파일은 `json`형태로 용량이 약 9GB입니다. 디버깅을 위해 데이터의 일부만 가져옵니다."
   ]
  },
  {
   "cell_type": "code",
   "execution_count": 2,
   "metadata": {},
   "outputs": [],
   "source": [
    "input_file_path = './namuwiki210301/namuwiki_20210301.json'\n",
    "output_file_path = './namuwiki210301/namuwiki_light.json'\n",
    "\n",
    "output_file_size = 1024*256\n",
    "with open(input_file_path, 'r', encoding='utf-8') as input_file:\n",
    "    content = input_file.read(output_file_size)\n",
    "    \n",
    "    with open(output_file_path, 'w') as output_file:\n",
    "        output_file.write(content)\n",
    "        output_file.write('\"}]') # json 형식 맞추기 위해\n"
   ]
  },
  {
   "cell_type": "code",
   "execution_count": 3,
   "metadata": {},
   "outputs": [],
   "source": [
    "import json\n",
    "from namuwiki.extractor import extract_text\n",
    "from konlpy.tag import Okt\n",
    "\n",
    "okt = Okt()\n",
    "\n",
    "with open(output_file_path, 'r', encoding='utf-8') as file:\n",
    "    namu_wiki = json.load(file)\n",
    "\n",
    "\n",
    "data = []\n",
    "for item in namu_wiki:\n",
    "    plain_text = extract_text(item['text'])   \n",
    "    data.append(okt.nouns(plain_text)) # 문장 중 명사만 가져옴"
   ]
  },
  {
   "cell_type": "code",
   "execution_count": 4,
   "metadata": {},
   "outputs": [],
   "source": [
    "from gensim.models import FastText\n",
    "\n",
    "embedding = FastText(data, size = 100, window=7, negative=3, min_count=5)\n",
    "embedding.save('test_ft.model')"
   ]
  },
  {
   "cell_type": "code",
   "execution_count": 5,
   "metadata": {},
   "outputs": [
    {
     "name": "stderr",
     "output_type": "stream",
     "text": [
      "/var/folders/3b/zbdjq75d21bbzgz4lsg8kyrm0000gn/T/ipykernel_95492/2297187815.py:2: DeprecationWarning: Call to deprecated `most_similar` (Method will be removed in 4.0.0, use self.wv.most_similar() instead).\n",
      "  print(model.most_similar('사람'))\n"
     ]
    },
    {
     "name": "stdout",
     "output_type": "stream",
     "text": [
      "[('에키드나', 0.9867197275161743), ('스바루', 0.9854452610015869), ('마녀', 0.9853806495666504), ('것', 0.9852842092514038), ('세계', 0.9849354028701782), ('때문', 0.9849066734313965), ('앨범', 0.9844876527786255), ('사실', 0.9839412569999695), ('정도', 0.9837397336959839), ('그', 0.9832786321640015)]\n"
     ]
    }
   ],
   "source": [
    "model = FastText.load('test_ft.model')\n",
    "print(model.most_similar('사람'))"
   ]
  },
  {
   "attachments": {},
   "cell_type": "markdown",
   "metadata": {},
   "source": [
    "## 앱 리뷰 데이터로 학습시키면 어떨까?\n",
    "google play scraper"
   ]
  },
  {
   "cell_type": "code",
   "execution_count": 15,
   "metadata": {},
   "outputs": [
    {
     "name": "stdout",
     "output_type": "stream",
     "text": [
      "자동차금융과 대출을 단 하나의 앱으로 지금 바로 경험해보세요\n",
      "\n",
      "■ 차량탐색 탭 \n",
      "- 제네시스/현대자동차/기아/전기차 주요 차종 위주로 용이한 자동차상품 선택 \n",
      "- 사용자 관심사 및 상황 별 맞춤형 차량 추천 기능 \n",
      "- 인기 차종부터 할인 차종까지 한 눈에 확인하는 신차 \n",
      "- 현대캐피탈이라서 안심할 수 있는 중고차\n",
      "\n",
      "■ 대출상품 탭 \n",
      "- 모바일 신청으로 쉽고 편리한 서비스 \n",
      "- DSR 계산기로 내 소득기준 대출한도 간편 조회\n",
      "\n",
      "■ 마이 탭 \n",
      "- 앱으로 간편하게 명세서 확인 및 이용금액 결제 \n",
      "- 한 눈에 확인할 수 있는 납부 현황 그래프\n",
      "\n",
      "■ 자산 탭 \n",
      "1) 내차 관리 \n",
      "- 차량번호만 입력하면 AI 기반으로 내차시세 확인 \n",
      "- 국내 최대 거래량, 전문 경매사끼리 경쟁하여 최고가 내차팔기 가능 \n",
      "- 차량 유지와 관련된 소비내역까지 매월 손쉽게 확인 \n",
      "- 보험, 자동차 검사 등 내 차 관리에 필요한 알림 기능 제공 \n",
      "\n",
      "2) 자산 관리 \n",
      "- 은행, 증권, 카드, 부동산, 자동차 등 자산 관리를 한 번에 \n",
      "- 내 소비 패턴을 월 별로 점검\n",
      "\n",
      "\n",
      "[앱 이용을 위한 접근권한 안내] \n",
      "- 파일 및 미디어(필수) : 보안프로그램 사용 및 로그 기록 저장 \n",
      "- 카메라(선택) : 신분증 및 계약서 촬영 \n",
      "- 위치(선택) : 임대 상품의 긴급출동, 사고접수 프로세스 중 챗봇 위치 추적 기능 목적 \n",
      "* 선택 접근 권한은 동의하지 않아도 앱 이용이 가능합니다. \n",
      "* 신용질서문란행위 조사(악성 App 탐지를 통한 현대캐피탈 App 이용 고객의 보이스피싱 피해 예방)를 위한 항목 : 악성 App 탐지정보, 탐지된 악성 App에 대한 진단정보\n",
      "\n",
      "\n",
      "[사용안내] \n",
      "- 지원 OS : 안드로이드 Ver. 6.0 이상 \n",
      "- 기존 버전이용 고객님께서는 현재 버전으로 업데이트가 필요합니다. 업데이트 후 최초로 앱 실행 시 서비스 변경 적용에 따른 시간이 일부 소요될 수 있습니다.\n",
      "- 앱 이용 중 에러 발생시 , PC 홈페이지 혹은 모바일  웹 (http://www.hyundaicapital.com)을 이용해 주시기 바랍니다.\n",
      "\n",
      "\n",
      "[Email 및 전화번호] \n",
      "- Email : app.mobile@hyundaicapital.com \n",
      "- 전화번호 : 02-2167-5100\n"
     ]
    }
   ],
   "source": [
    "from google_play_scraper import app\n",
    "import ssl\n",
    "\n",
    "ssl._create_default_https_context = ssl._create_unverified_context\n",
    "\n",
    "result = app(\n",
    "    'com.hyundai.capital',\n",
    "    lang='ko',\n",
    "    country='kr'\n",
    ")\n",
    "\n",
    "print(result['description'])"
   ]
  },
  {
   "attachments": {},
   "cell_type": "markdown",
   "metadata": {},
   "source": [
    "app store scraper"
   ]
  },
  {
   "cell_type": "code",
   "execution_count": 20,
   "metadata": {},
   "outputs": [
    {
     "name": "stderr",
     "output_type": "stream",
     "text": [
      "2024-02-22 01:25:30,439 [INFO] Base - Searching for app id\n",
      "2024-02-22 01:25:31,546 [INFO] Base - Initialised: AppStore('kr', 'minecraft', 479516143)\n",
      "2024-02-22 01:25:31,547 [INFO] Base - Ready to fetch reviews from: https://apps.apple.com/kr/app/minecraft/id479516143\n"
     ]
    },
    {
     "name": "stdout",
     "output_type": "stream",
     "text": [
      "<function app at 0x12e2e20d0>\n"
     ]
    }
   ],
   "source": [
    "from app_store_scraper import AppStore\n",
    "from pprint import pprint\n",
    "\n",
    "minecraft = AppStore(country=\"kr\", app_name=\"minecraft\")\n",
    "\n",
    "print(app)"
   ]
  }
 ],
 "metadata": {
  "kernelspec": {
   "display_name": ".venv",
   "language": "python",
   "name": "python3"
  },
  "language_info": {
   "codemirror_mode": {
    "name": "ipython",
    "version": 3
   },
   "file_extension": ".py",
   "mimetype": "text/x-python",
   "name": "python",
   "nbconvert_exporter": "python",
   "pygments_lexer": "ipython3",
   "version": "3.8.10"
  },
  "orig_nbformat": 4
 },
 "nbformat": 4,
 "nbformat_minor": 2
}
