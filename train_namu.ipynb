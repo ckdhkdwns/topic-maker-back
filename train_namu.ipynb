{
 "cells": [
  {
   "attachments": {},
   "cell_type": "markdown",
   "metadata": {},
   "source": [
    "## Word2Vec 나무위키 데이터 학습\n",
    "나무위키 데이터베이스 덤프로 *word2vec* 모델을 학습하는 과정입니다."
   ]
  },
  {
   "attachments": {},
   "cell_type": "markdown",
   "metadata": {},
   "source": [
    "### 원본 파일 자르기\n",
    "제공하는 파일은 `json`형태로 용량이 약 9GB입니다. 디버깅을 위해 데이터의 일부만 가져옵니다."
   ]
  },
  {
   "cell_type": "code",
   "execution_count": 21,
   "metadata": {},
   "outputs": [],
   "source": [
    "input_file_path = './namuwiki210301/namuwiki_20210301.json'\n",
    "output_file_path = './namuwiki210301/namuwiki_light.json'\n",
    "\n",
    "output_file_size = 1024*256\n",
    "with open(input_file_path, 'r', encoding='utf-8') as input_file:\n",
    "    content = input_file.read(output_file_size)\n",
    "    \n",
    "    with open(output_file_path, 'w') as output_file:\n",
    "        output_file.write(content)\n",
    "        output_file.write('\"}]') # json 형식 맞추기 위해\n"
   ]
  },
  {
   "cell_type": "code",
   "execution_count": 38,
   "metadata": {},
   "outputs": [],
   "source": [
    "import json\n",
    "from namuwiki.extractor import extract_text\n",
    "from konlpy.tag import Okt\n",
    "\n",
    "okt = Okt()\n",
    "\n",
    "with open(output_file_path, 'r', encoding='utf-8') as file:\n",
    "    namu_wiki = json.load(file)\n",
    "\n",
    "\n",
    "data = []\n",
    "for item in namu_wiki:\n",
    "    plain_text = extract_text(item['text'])   \n",
    "    data.append(okt.nouns(plain_text)) # 문장 중 명사만 가져옴\n"
   ]
  }
 ],
 "metadata": {
  "kernelspec": {
   "display_name": ".venv",
   "language": "python",
   "name": "python3"
  },
  "language_info": {
   "codemirror_mode": {
    "name": "ipython",
    "version": 3
   },
   "file_extension": ".py",
   "mimetype": "text/x-python",
   "name": "python",
   "nbconvert_exporter": "python",
   "pygments_lexer": "ipython3",
   "version": "3.8.10"
  },
  "orig_nbformat": 4
 },
 "nbformat": 4,
 "nbformat_minor": 2
}
